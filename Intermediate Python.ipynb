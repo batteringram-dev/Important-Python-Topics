{
 "cells": [
  {
   "cell_type": "markdown",
   "id": "7303f261",
   "metadata": {},
   "source": [
    "# Generator Expression and Functions"
   ]
  },
  {
   "cell_type": "code",
   "execution_count": 1,
   "id": "e0bcc4bc",
   "metadata": {},
   "outputs": [
    {
     "name": "stdout",
     "output_type": "stream",
     "text": [
      "<generator object <genexpr> at 0x7f163c2030b0>\n"
     ]
    }
   ],
   "source": [
    "# Generators are used to iterate through a sequence of objects which doesn't \n",
    "# store the values and printed when asked.\n",
    "# Use () to create a generator expression\n",
    "\n",
    "my_generator = (x for x in range(0, 10))\n",
    "print(my_generator)"
   ]
  },
  {
   "cell_type": "code",
   "execution_count": 2,
   "id": "5ee1f129",
   "metadata": {},
   "outputs": [
    {
     "data": {
      "text/plain": [
       "0"
      ]
     },
     "execution_count": 2,
     "metadata": {},
     "output_type": "execute_result"
    }
   ],
   "source": [
    "next(my_generator)"
   ]
  },
  {
   "cell_type": "code",
   "execution_count": 4,
   "id": "1f23dbb3",
   "metadata": {},
   "outputs": [
    {
     "data": {
      "text/plain": [
       "1"
      ]
     },
     "execution_count": 4,
     "metadata": {},
     "output_type": "execute_result"
    }
   ],
   "source": [
    "next(my_generator)"
   ]
  },
  {
   "cell_type": "code",
   "execution_count": 5,
   "id": "f0df4f90",
   "metadata": {},
   "outputs": [
    {
     "data": {
      "text/plain": [
       "2"
      ]
     },
     "execution_count": 5,
     "metadata": {},
     "output_type": "execute_result"
    }
   ],
   "source": [
    "next(my_generator)"
   ]
  },
  {
   "cell_type": "code",
   "execution_count": 7,
   "id": "c691bfff",
   "metadata": {},
   "outputs": [
    {
     "name": "stdout",
     "output_type": "stream",
     "text": [
      "3\n",
      "4\n",
      "5\n",
      "6\n",
      "7\n",
      "8\n",
      "9\n"
     ]
    }
   ],
   "source": [
    "for item in my_generator:\n",
    "    print(item)"
   ]
  },
  {
   "cell_type": "code",
   "execution_count": 8,
   "id": "227bae62",
   "metadata": {},
   "outputs": [
    {
     "ename": "StopIteration",
     "evalue": "",
     "output_type": "error",
     "traceback": [
      "\u001b[0;31m---------------------------------------------------------------------------\u001b[0m",
      "\u001b[0;31mStopIteration\u001b[0m                             Traceback (most recent call last)",
      "\u001b[0;32m/tmp/ipykernel_94834/2924334565.py\u001b[0m in \u001b[0;36m<module>\u001b[0;34m\u001b[0m\n\u001b[0;32m----> 1\u001b[0;31m \u001b[0mnext\u001b[0m\u001b[0;34m(\u001b[0m\u001b[0mmy_generator\u001b[0m\u001b[0;34m)\u001b[0m\u001b[0;34m\u001b[0m\u001b[0;34m\u001b[0m\u001b[0m\n\u001b[0m",
      "\u001b[0;31mStopIteration\u001b[0m: "
     ]
    }
   ],
   "source": [
    "# Stop Iteration means it is out of values. Generator is exhausted\n",
    "next(my_generator)"
   ]
  },
  {
   "cell_type": "code",
   "execution_count": 22,
   "id": "4f83cd99",
   "metadata": {},
   "outputs": [
    {
     "name": "stdout",
     "output_type": "stream",
     "text": [
      "1\n",
      "4\n",
      "9\n",
      "16\n",
      "25\n"
     ]
    }
   ],
   "source": [
    "# Complex generator using Yield keywords\n",
    "\n",
    "def square_numbers(nums):\n",
    "    for num in nums:\n",
    "        yield (num * num)\n",
    "        \n",
    "my_numbers = square_numbers([1, 2, 3, 4, 5])\n",
    "print(next(my_numbers))\n",
    "print(next(my_numbers))\n",
    "print(next(my_numbers))\n",
    "print(next(my_numbers))\n",
    "print(next(my_numbers))\n",
    "\n",
    "for num in my_numbers:\n",
    "    print(num)"
   ]
  },
  {
   "cell_type": "code",
   "execution_count": 19,
   "id": "94d34669",
   "metadata": {},
   "outputs": [
    {
     "name": "stdout",
     "output_type": "stream",
     "text": [
      "<generator object <genexpr> at 0x7f163c1987b0>\n"
     ]
    }
   ],
   "source": [
    "# Another example\n",
    "output = (one_number ** 2 for one_number in range(10))\n",
    "print(output)"
   ]
  },
  {
   "cell_type": "code",
   "execution_count": 21,
   "id": "d6bcdf68",
   "metadata": {},
   "outputs": [
    {
     "data": {
      "text/plain": [
       "0"
      ]
     },
     "execution_count": 21,
     "metadata": {},
     "output_type": "execute_result"
    }
   ],
   "source": [
    "next(output)"
   ]
  },
  {
   "cell_type": "code",
   "execution_count": 24,
   "id": "b0722bcc",
   "metadata": {},
   "outputs": [
    {
     "data": {
      "text/plain": [
       "9"
      ]
     },
     "execution_count": 24,
     "metadata": {},
     "output_type": "execute_result"
    }
   ],
   "source": [
    "next(output)\n",
    "next(output)"
   ]
  },
  {
   "cell_type": "code",
   "execution_count": 25,
   "id": "86031339",
   "metadata": {},
   "outputs": [
    {
     "data": {
      "text/plain": [
       "16"
      ]
     },
     "execution_count": 25,
     "metadata": {},
     "output_type": "execute_result"
    }
   ],
   "source": [
    "next(output)"
   ]
  },
  {
   "cell_type": "markdown",
   "id": "d9814cfb",
   "metadata": {},
   "source": [
    "# List Comprehension"
   ]
  },
  {
   "cell_type": "code",
   "execution_count": 30,
   "id": "95edad53",
   "metadata": {},
   "outputs": [
    {
     "name": "stdout",
     "output_type": "stream",
     "text": [
      "[1, 2, 3, 4, 5, 6, 7, 8, 9, 10]\n"
     ]
    }
   ],
   "source": [
    "# Get all the element from 1 to 11\n",
    "list_comprehension = [x for x in range(1, 11)]\n",
    "print(list_comprehension)"
   ]
  },
  {
   "cell_type": "code",
   "execution_count": 31,
   "id": "2dc1efd3",
   "metadata": {},
   "outputs": [
    {
     "name": "stdout",
     "output_type": "stream",
     "text": [
      "[2, 4, 6, 8, 10]\n"
     ]
    }
   ],
   "source": [
    "# Get all the even elements from 1 to 11\n",
    "list_comprehension2 = [x for x in range(1, 11) if x % 2 == 0]\n",
    "print(list_comprehension2)"
   ]
  },
  {
   "cell_type": "code",
   "execution_count": 32,
   "id": "6b3d50cd",
   "metadata": {},
   "outputs": [
    {
     "name": "stdout",
     "output_type": "stream",
     "text": [
      "[2, 3, 3, 4, 5, 6, 7, 8, 9, 10]\n"
     ]
    }
   ],
   "source": [
    "# Print x if x is greater than 2 or else add 1 to it between the elements 1 to 11\n",
    "list_comprehension3 = [x if x > 2 else x + 1 for x in range(1, 11)]\n",
    "print(list_comprehension3)"
   ]
  },
  {
   "cell_type": "code",
   "execution_count": 34,
   "id": "501600ef",
   "metadata": {},
   "outputs": [
    {
     "name": "stdout",
     "output_type": "stream",
     "text": [
      "['H', 'e', 'l', 'l', 'o', 'M', 'y', 'N', 'a', 'm', 'e', 'I', 's', 'S', 'r', 'i', 'r', 'a', 'm']\n"
     ]
    }
   ],
   "source": [
    "# List comprehension on strings\n",
    "string = 'HelloMyNameIsSriram'\n",
    "list_comprehension4 = [i for i in string]\n",
    "print(list_comprehension4)"
   ]
  },
  {
   "cell_type": "code",
   "execution_count": 35,
   "id": "4d0d28c2",
   "metadata": {},
   "outputs": [
    {
     "name": "stdout",
     "output_type": "stream",
     "text": [
      "HelloMyNameIsSriram\n"
     ]
    }
   ],
   "source": [
    "string = 'HelloMyNameIsSriram'\n",
    "list_comprehension5 = \"\".join([i if i.islower() else \" \" + i for i in string])\n",
    "print(list_comprehension5)"
   ]
  },
  {
   "cell_type": "code",
   "execution_count": 36,
   "id": "42f89818",
   "metadata": {},
   "outputs": [
    {
     "name": "stdout",
     "output_type": "stream",
     "text": [
      " Hello My Name Is Sriram\n"
     ]
    }
   ],
   "source": [
    "string = 'HelloMyNameIsSriram'\n",
    "list_comprehension5 = \"\".join([i if i.islower() else \" \" + i for i in string])\n",
    "print(list_comprehension5)"
   ]
  },
  {
   "cell_type": "markdown",
   "id": "805b7f6c",
   "metadata": {},
   "source": [
    "# Dictionary Comprehension"
   ]
  },
  {
   "cell_type": "code",
   "execution_count": 52,
   "id": "73b634e5",
   "metadata": {},
   "outputs": [
    {
     "name": "stdout",
     "output_type": "stream",
     "text": [
      "{1: 'Sriram', 2: 'Kumar', 'Age': 21, 'Status': 'Sitting in front of his Dell laptop'}\n"
     ]
    }
   ],
   "source": [
    "# This is a dictionary\n",
    "dict = {1: 'Sriram', 2: 'Kumar', 'Age': 21, 'Status': 'Sitting in front of his Dell laptop'}\n",
    "print(dict)"
   ]
  },
  {
   "cell_type": "code",
   "execution_count": 39,
   "id": "e31fe3d6",
   "metadata": {},
   "outputs": [
    {
     "name": "stdout",
     "output_type": "stream",
     "text": [
      "{'egg': 0.5, 'apple': 0.75, 'bread': 1.25, 'water': 0.9}\n"
     ]
    }
   ],
   "source": [
    "keys = ['egg', 'apple', 'bread', 'water']\n",
    "values = [0.5, 0.75, 1.25, 0.9]\n",
    "\n",
    "d = {key:value for key,value in zip(keys, values)}\n",
    "print(d)"
   ]
  },
  {
   "cell_type": "code",
   "execution_count": 40,
   "id": "cc5342dd",
   "metadata": {},
   "outputs": [
    {
     "name": "stdout",
     "output_type": "stream",
     "text": [
      "{1: 1, 2: 4, 3: 9, 4: 16, 5: 25, 6: 36, 7: 49, 8: 64, 9: 81, 10: 100}\n"
     ]
    }
   ],
   "source": [
    "# X being the key and the squared numbers as value in a range between 1 to 11\n",
    "numbers_with_squares = {x: x * x for x in range(1, 11)}\n",
    "print(numbers_with_squares)"
   ]
  },
  {
   "cell_type": "code",
   "execution_count": 50,
   "id": "94168fe6",
   "metadata": {},
   "outputs": [
    {
     "name": "stdout",
     "output_type": "stream",
     "text": [
      "{'Name': 'Sriram', 'Surname': 'Kumar', 'Email': 'ksriram2001@gmail.com'}\n"
     ]
    }
   ],
   "source": [
    "# Trim extra space\n",
    "# Strip function will strip the white space before or after each values\n",
    "details = {\n",
    "    \"Name\": \"Sriram   \",\n",
    "    \"Surname\": \"    Kumar\",\n",
    "    \"Email\": \"ksriram2001@gmail.com   \"\n",
    "}\n",
    "\n",
    "stripped_details = {key : value.strip() for key, value in details.items()}\n",
    "print(stripped_details)"
   ]
  },
  {
   "cell_type": "code",
   "execution_count": 51,
   "id": "d7877053",
   "metadata": {},
   "outputs": [
    {
     "name": "stdout",
     "output_type": "stream",
     "text": [
      "{'Song': 'Till I Collapse', 'Artist': 'Eminem', 'Key': 'D'}\n"
     ]
    }
   ],
   "source": [
    "# Remove items from the dict where the string value is empty\n",
    "data = {\n",
    "    'Song': 'Till I Collapse',\n",
    "    'Artist': 'Eminem',\n",
    "    'Key': 'D',\n",
    "    'Strumming_Pattern': '',\n",
    "    'Timing': ''\n",
    "}\n",
    "\n",
    "nonempty_data = {key:value for key, value in data.items() if value != ''}\n",
    "print(nonempty_data)"
   ]
  }
 ],
 "metadata": {
  "kernelspec": {
   "display_name": "Python 3 (ipykernel)",
   "language": "python",
   "name": "python3"
  },
  "language_info": {
   "codemirror_mode": {
    "name": "ipython",
    "version": 3
   },
   "file_extension": ".py",
   "mimetype": "text/x-python",
   "name": "python",
   "nbconvert_exporter": "python",
   "pygments_lexer": "ipython3",
   "version": "3.8.10"
  }
 },
 "nbformat": 4,
 "nbformat_minor": 5
}
